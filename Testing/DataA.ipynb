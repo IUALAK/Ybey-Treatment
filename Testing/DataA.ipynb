{
 "cells": [
  {
   "cell_type": "code",
   "execution_count": null,
   "metadata": {},
   "outputs": [],
   "source": [
    "# Biopython experiments section\n",
    "from Bio import Entrez\n",
    "Entrez.email = \"alakhrasyunes@gmail.com\"\n",
    "handle = Entrez.einfo(db = 'taxonomy')\n",
    "result = Entrez.read(handle)\n",
    "for field in result['DbInfo']['FieldList']:\n",
    "    print('%(Name)s, %(FullName)s, %(Description)s' % field)"
   ]
  },
  {
   "cell_type": "code",
   "execution_count": null,
   "metadata": {},
   "outputs": [],
   "source": [
    "# Tests of code\n",
    "import xml.etree.ElementTree as ET\n",
    "from Bio import Entrez\n",
    "from Bio.SeqIO import FastaIO\n",
    "import pandas as pd\n",
    "import re\n",
    "Entrez.email = 'alakhrayunes@gmail.com'\n",
    "request = 'Ybey RNAse'\n",
    "dbase = 'protfam'\n",
    "handle = Entrez.esearch(db = dbase, term = request, retmax=1)\n",
    "result = Entrez.read(handle)\n",
    "for id in result['IdList']:\n",
    "    handle = Entrez.esummary(db = dbase, id = id, retmode = 'xml')\n",
    "    result = Entrez.read(handle)\n",
    "print(result)\n",
    "# print(ET.fromstring(result)[])"
   ]
  },
  {
   "cell_type": "code",
   "execution_count": null,
   "metadata": {},
   "outputs": [],
   "source": [
    "# Get Data\n",
    "from Bio import Entrez\n",
    "from Bio.SeqIO import FastaIO\n",
    "import pandas as pd\n",
    "import re\n",
    "\n",
    "def search_ybey_nuccore(species):\n",
    "    # TODO: the check of a nuccore record (does it exist, is it full or not etc.) before ybey check need to be realized \n",
    "    request = f'(Ybey[title] OR Ybey[prot] OR Ybey[gene]) AND {species}'\n",
    "    handle = Entrez.esearch(db = 'nuccore', term = request, retmax = 1)\n",
    "    respond = Entrez.read(handle)\n",
    "    return int(respond['RetMax'])\n",
    "\n",
    "def search_ybey_protein(species):\n",
    "    request = f'Ybey[title] AND {species}'\n",
    "    handle = Entrez.esearch(db = 'protein', term = request, retmax = 1)\n",
    "    respond = Entrez.read(handle)\n",
    "    return int(respond['RetMax'])\n",
    "\n",
    "def us11_analysis(sequence):\n",
    "    for n in ['ng', 'dg', 'gg', 'np', 'lg', 'fp']:\n",
    "        scan = re.findall('d.{6}%s' %n, sequence)\n",
    "        if scan != []:\n",
    "            if scan[0][7:] in ['ng','dg']:\n",
    "                return 1 # ng and dg groups\n",
    "            else:\n",
    "                return 0 # other groups\n",
    "#             return n\n",
    "    else:\n",
    "        return 'Not frequent motif or abscent'\n",
    "# Maybe it would be better to use Ybey instead of S11\n",
    "Entrez.email = 'alakhrayunes@gmail.com'\n",
    "requests = ['S11[Title] AND ribosomal[Title] AND protein[Title] AND bacteria[filter]',\n",
    "           'S11[Title] AND ribosomal[Title] AND protein[Title] AND mitochondrial[Title] AND Animals[Filter]',\n",
    "           'S11[Title] AND ribosomal[Title] AND protein[Title] AND (mitochondrial[Title] OR chloroplast[Title]) AND Plants[Filter]',\n",
    "           'S11[Title] AND ribosomal[Title] AND mitochondrial[Title] AND Fungi[Filter]',\n",
    "            'S11[Title] AND ribosomal[Title] AND protein[Title] AND (mitochondrial[Title] OR chloroplast[Title]) AND Protists[Filter]',\n",
    "          ] # For fungi, 'S30' and 'S37' can be added to [filter], as well as 'chloroplastic'\n",
    "all_species = []\n",
    "info_dict = {'species': [], 'ybey':[],'taxon': [], 's11_sequence': [], 's11_group': [], 'id': []}\n",
    "for request in requests:\n",
    "    handle = Entrez.esearch(db = 'protein', term = request, retmax = 3000)\n",
    "    results = Entrez.read(handle)\n",
    "    for result in results[\"IdList\"]:\n",
    "        try:\n",
    "            request = Entrez.efetch(db = 'protein', id = result, rettype = 'gp', retmode = 'xml')\n",
    "            respond = Entrez.read(request)[0]\n",
    "            species = respond['GBSeq_organism'].split(' ')\n",
    "        except HTTPException:\n",
    "            print (\"Second (and final) attempt...\")\n",
    "            request = Entrez.efetch(db = 'protein', id = result, rettype = 'gp', retmode = 'xml')\n",
    "            respond = Entrez.read(request)[0]\n",
    "            species = respond['GBSeq_organism'].split(' ')\n",
    "        if 'sp.' in species:\n",
    "            species = species[:species.index('sp.') + 2]\n",
    "        else:\n",
    "            species = species[:2]\n",
    "        species = ' '.join(species)\n",
    "        if species not in all_species:\n",
    "            ybey_presence = search_ybey_nuccore(species)\n",
    "            all_species.append(species)\n",
    "            info_dict['species'].append(species)\n",
    "            info_dict['ybey'].append(ybey_presence)\n",
    "            info_dict['taxon'].append(respond['GBSeq_taxonomy'])\n",
    "            info_dict['s11_sequence'].append(respond['GBSeq_sequence'])\n",
    "            info_dict['s11_group'].append(us11_analysis(respond['GBSeq_sequence']))\n",
    "            info_dict['id'].append(result)\n",
    "info_table = pd.DataFrame.from_dict(info_dict)\n",
    "# Begin of the testing segment\n",
    "# info_table.drop('')\n",
    "# End of the testing segment\n",
    "info_table.to_csv('info_table.csv', index = False)"
   ]
  },
  {
   "cell_type": "code",
   "execution_count": null,
   "metadata": {},
   "outputs": [],
   "source": [
    "# pandas tests\n",
    "import pandas as pd\n",
    "import numpy as np\n",
    "import matplotlib.pyplot as plt\n",
    "\n",
    "info_table = pd.read_csv('info_table.csv')\n",
    "info_table = info_table.loc[info_table['s11_group'] != 'Not frequent motif or abscent']\n",
    "info_table = info_table.astype({'s11_group':int, 'ybey': int})\n",
    "for domain in ['Eukaryota', 'Bacteria']:\n",
    "    ddf = info_table.loc[info_table['taxon'].str.contains(domain)]\n",
    "    ddf = ddf.drop(columns = 'id')\n",
    "    plot = ddf.plot.hexbin(x = 's11_group', y = 'ybey', gridsize = (2, 1), title = f'distribution for {domain}', sharex = False, xticks = (0, 1), yticks = (0, 1) )\n",
    "    corr = ddf.corr()\n",
    "    print(plot)\n",
    "    print(corr)\n",
    "    step = 0\n",
    "    for genus in set(ddf['taxon']):\n",
    "        family = genus.split('; ')[:-2]\n",
    "        genus_title = genus.split('; ')[-2]\n",
    "        gdf = ddf.loc[ddf['taxon'].str.contains('; '.join(family))]\n",
    "        if len(gdf) < 30:\n",
    "            continue\n",
    "        plot = gdf.plot.hexbin(x = 's11_group', y = 'ybey', gridsize = (1,2), title = f'distribution for {genus_title}', sharex = False, xticks = (0, 1), yticks = (0, 1),extent = (0.7,1,0,1) )\n",
    "        print(plot)\n",
    "        step += 1\n",
    "        if step == 10:\n",
    "            step = 0\n",
    "            break"
   ]
  },
  {
   "cell_type": "code",
   "execution_count": null,
   "metadata": {},
   "outputs": [],
   "source": [
    "import pandas as pd\n",
    "import numpy as np\n",
    "import matplotlib.pyplot as plt\n",
    "\n",
    "info_table = pd.read_csv('info_table2.csv')\n",
    "info_table = info_table.loc[info_table['s11_group'] != 'Not frequent motif or abscent']\n",
    "info_table = info_table.astype({'s11_group':int,})\n",
    "for domain in ['Eukaryota', 'Bacteria']:\n",
    "    ddf = info_table.loc[info_table['taxon'].str.contains(domain)]\n",
    "    ddf = ddf.drop(columns = 'id')\n",
    "    print(f'mean for {domain}' ,ddf.mean(), sep = '\\n')\n",
    "    step = 0\n",
    "    for genus in set(ddf['taxon']):\n",
    "        try:\n",
    "            family = genus.split('; ')[:-2]\n",
    "            genus_title = genus.split('; ')[-2]\n",
    "        except:\n",
    "            continue\n",
    "        gdf = ddf.loc[ddf['taxon'].str.contains('; '.join(family))]\n",
    "        if len(gdf) < 30:\n",
    "            continue\n",
    "        print(f'mean for {genus_title}', gdf.mean(), sep = '\\n')\n",
    "        step += 1\n",
    "        if step == 10:\n",
    "            step = 0\n",
    "            break"
   ]
  },
  {
   "cell_type": "code",
   "execution_count": null,
   "metadata": {},
   "outputs": [],
   "source": [
    "import re\n",
    "a = 'abbbbaffffaqqqq'\n",
    "a = re.findall('a.{4}',a)\n",
    "a[0][4]"
   ]
  },
  {
   "cell_type": "code",
   "execution_count": null,
   "metadata": {},
   "outputs": [],
   "source": [
    "import pandas as pd\n",
    "\n",
    "non_ybey = pd.read_csv('non_ybey.csv')\n",
    "with_ybey = pd.read_csv('info_table.csv')\n",
    "non_ybey_plot = non_ybey.groupby(['s11_group']).size().plot.bar(title = 'uS11m distrubution in taxons possessing Ybey')\n",
    "non_ybey_plot.get_figure().savefig('non_ybey_plot.png')\n",
    "with_ybey_plot = with_ybey.groupby(['s11_group']).size().plot.bar(title = 'uS11m distribution in taxons without Ybey')\n",
    "with_ybey_plot.get_figure().savefig('with_ybey_plot.png')"
   ]
  },
  {
   "cell_type": "code",
   "execution_count": null,
   "metadata": {},
   "outputs": [],
   "source": [
    "from Bio import Entrez\n",
    "\n",
    "def species_treater(answer):\n",
    "    # answer1 = answer['DocumentSummarySet']['DocumentSummary'][0].keys()\n",
    "    # print(answer1)\n",
    "    answer = answer['DocumentSummarySet']['DocumentSummary'][0]['Organism']\n",
    "    counter = answer.split(' ')\n",
    "    answer = answer.split(' ')\n",
    "    for i in counter:\n",
    "        if ('(' in i) or (')' in i): \n",
    "            answer.remove(i)\n",
    "    return ' '.join(answer)\n",
    "\n",
    "Entrez.email = 'alakhrasyunes@gmail.com'\n",
    "\n",
    "requests = ['Bacteria[organism] AND latest[filter] AND \"complete genome\"[filter] NOT anomalous[filter]',\n",
    "            'Eukaryota[organism] AND latest[filter] AND \"complete genome\"[filter] NOT anomalous[filter]'\n",
    "]\n",
    "species_list = []\n",
    "for request in requests:\n",
    "    handle = Entrez.esearch(db = 'assembly', term = request, retmax = 1000)\n",
    "    response = Entrez.read(handle)\n",
    "    for id in response['IdList']:\n",
    "        handle = Entrez.esummary(db = 'assembly', id = id, retmode = 'xml')\n",
    "        answer = Entrez.read(handle, validate = False)\n",
    "        result = None\n",
    "        result = species_treater(answer)\n",
    "        if result not in species_list:\n",
    "            species_list.append(result)"
   ]
  },
  {
   "cell_type": "code",
   "execution_count": null,
   "metadata": {},
   "outputs": [],
   "source": [
    "for species in ['a','b','t']:\n",
    "    print(species)\n",
    "    species = 'q'\n",
    "    print(species)"
   ]
  },
  {
   "cell_type": "code",
   "execution_count": null,
   "metadata": {},
   "outputs": [],
   "source": [
    "def us11_analysis(sequence):\n",
    "    if len(sequence) < 100:\n",
    "        return 'NotRepresentative'\n",
    "    sequence = sequence[-30:]\n",
    "    # End of the new segment\n",
    "    scan = re.findall('(?=(d.{8}))', sequence)\n",
    "    if scan != []:\n",
    "        if scan[-1][7:] in ['ng','dg']:\n",
    "            return 1 # ng and dg groups\n",
    "        else:\n",
    "            return 0 # other groups\n",
    "    else:\n",
    "        return 'NotRepresentative'\n",
    "\n",
    "us11_analysis('dddddvtpiphngvrprkrrrv')"
   ]
  },
  {
   "cell_type": "code",
   "execution_count": null,
   "metadata": {},
   "outputs": [],
   "source": [
    "print(str([123,1322]))"
   ]
  },
  {
   "cell_type": "code",
   "execution_count": null,
   "metadata": {},
   "outputs": [],
   "source": [
    "import pandas as pd\n",
    "import matplotlib.pyplot as plt\n",
    "\n",
    "ybey_info = pd.read_csv('info_table_real1.csv')\n",
    "fig, axes = plt.subplots(1,2)\n",
    "print(axes)\n",
    "pos_ybey = ybey_info.loc[ybey_info['ybey_group'] == 1]\n",
    "neg_ybey = ybey_info.loc[ybey_info['ybey_group'] == 0]\n",
    "pos_ybey_plot = pos_ybey.groupby('s11_group').size().plot.bar(subplots = True, ax  = axes[0], title = )\n",
    "neg_ybey_plot = neg_ybey.groupby('s11_group').size().plot.bar(subplots = True, ax = axes[1])\n",
    "print(fig)\n"
   ]
  },
  {
   "cell_type": "code",
   "execution_count": null,
   "metadata": {},
   "outputs": [],
   "source": [
    "from Bio import Entrez\n",
    "\n",
    "Entrez.email = 'alakh@gmail.com'\n",
    "\n",
    "handle = Entrez.esearch(term = 'afsaffsasfsafasf[Organism] AND Ybey', db = 'protein', retmax = 1)\n",
    "for i in range(1):\n",
    "    result = Entrez.read(handle)\n",
    "\n",
    "print(result)"
   ]
  },
  {
   "cell_type": "code",
   "execution_count": null,
   "metadata": {},
   "outputs": [],
   "source": [
    "import pandas as pd\n",
    "import re\n",
    "\n",
    "re.search(r'(\\bbacterium\\b)|(\\bsp\\b)', ' bacteriumales sp.') != None\n"
   ]
  },
  {
   "cell_type": "code",
   "execution_count": null,
   "metadata": {},
   "outputs": [],
   "source": [
    "import pandas as pd\n",
    "\n",
    "table = pd.read_csv('uS11_tabs/uS11m.csv')\n",
    "# table = table.loc[table['scientific_name'] == 'Escherichia coli']\n",
    "def search_ybey_nuccore(species):\n",
    "    research_table = table.loc[table['scientific_name'] == species]\n",
    "    \n",
    "    return 1 if len(research_table) != 0 else 0 \n",
    "\n",
    "search_ybey_nuccore('Homo Sapiens')"
   ]
  },
  {
   "cell_type": "code",
   "execution_count": 142,
   "metadata": {},
   "outputs": [],
   "source": [
    "import pandas as pd\n",
    "import numpy as np\n",
    "from Bio import SeqIO\n",
    "\n",
    "fast = SeqIO.parse('s11.fasta', 'fasta')\n",
    "# table = pd.read_html('s11.xml')\n",
    "# print(len(table))\n",
    "# table = table.drop_duplicates(ignore_index = True)\n",
    "# table.to_csv('info_table.csv')\n",
    "# table\n",
    "fast_dict = {'description': [], 'sequence': [], 'id': []}\n",
    "for i in fast:\n",
    "    fast_dict['id'].append(i.id)\n",
    "    fast_dict['description'].append(i.description)\n",
    "    fast_dict['sequence'].append(str(i.seq).lower())\n",
    "\n",
    "fast_dict = pd.DataFrame.from_dict(fast_dict)\n",
    "fast_dict.to_csv('s11.csv', index = False)\n",
    "species = \"Escherichia coli\"\n",
    "fast_dict = fast_dict.loc[fast_dict['description'].str.contains(f'OS={species}')].reset_index(drop = True)\n",
    "# fast_dict = fast_dict.loc[fast_dict['sequence'].str.contains('ng')]\n",
    "# for index in fast_dict['sequence']:\n",
    "    # print(index)\n",
    "# domain = 'bacter'\n",
    "# plot = tabls.plot.hexbin(x = 's11_group', y = 'ybey_group', gridsize = (2, 1), title = f'distribution for {domain}', sharex = False, xticks = (0, 1), yticks = (0, 1) )\n"
   ]
  },
  {
   "cell_type": "code",
   "execution_count": 160,
   "metadata": {},
   "outputs": [
    {
     "data": {
      "text/plain": [
       "1"
      ]
     },
     "execution_count": 160,
     "metadata": {},
     "output_type": "execute_result"
    }
   ],
   "source": [
    "import pandas as pd\n",
    "\n",
    "# taxon = pd.read_csv('taxid.tab', sep = '\\t')\n",
    "# taxon\n",
    "# taxon = taxon.loc[taxon['Scientific name'].str.contains('Bacillus velezensis')].reset_index(drop = True)\n",
    "# taxon = taxon['Lineage'].reset_index(drop = True)\n",
    "# taxon.iloc[0][\"Taxon\"]\n",
    "# pd.index(taxon[0])\n",
    "# taxon[('Reviewed','Lineage')]\n",
    "# taxon\n",
    "# print(taxon.iloc[0])\n",
    "ybey = pd.read_csv('Ybey.tab', sep = '\\t')\n",
    "Y2 = ybey.loc[ybey['Organism'] == 'Escherichia coli']\n",
    "len(Y2)\n",
    "\n",
    "def search_ybey(species):\n",
    "    research_table = ybey.loc[ybey['Organism'].str.contains(species)]\n",
    "    return 1 if len(research_table) != 0 else 0\n",
    "search_ybey('Escherichia coli') "
   ]
  },
  {
   "cell_type": "code",
   "execution_count": 140,
   "metadata": {},
   "outputs": [
    {
     "data": {
      "text/plain": [
       "'candidatus'"
      ]
     },
     "execution_count": 140,
     "metadata": {},
     "output_type": "execute_result"
    }
   ],
   "source": [
    "import re\n",
    "\n",
    "q = 'candidatus'\n",
    "q = re.sub('\\[|\\]','', q)\n",
    "q"
   ]
  },
  {
   "cell_type": "code",
   "execution_count": 4,
   "metadata": {},
   "outputs": [
    {
     "name": "stdout",
     "output_type": "stream",
     "text": [
      "2\n",
      "3\n"
     ]
    }
   ],
   "source": [
    "a = 0\n",
    "for i in range(2,4):\n",
    "    print(i)\n",
    "    "
   ]
  },
  {
   "cell_type": "code",
   "execution_count": 2,
   "metadata": {},
   "outputs": [],
   "source": [
    "import pandas as pd\n",
    "\n",
    "species = pd.read_xml('../DataTreatment/taxonomy_result.xml')\n",
    "species.to_csv('taxonid.csv', index = False)"
   ]
  },
  {
   "cell_type": "code",
   "execution_count": null,
   "metadata": {},
   "outputs": [],
   "source": []
  }
 ],
 "metadata": {
  "interpreter": {
   "hash": "284103f55f1f2306f4db47b86abdea83fa8e340e75a8eae6217d7acec3ae1fbb"
  },
  "kernelspec": {
   "display_name": "Python 3.8.8 64-bit ('base': conda)",
   "name": "python3"
  },
  "language_info": {
   "codemirror_mode": {
    "name": "ipython",
    "version": 3
   },
   "file_extension": ".py",
   "mimetype": "text/x-python",
   "name": "python",
   "nbconvert_exporter": "python",
   "pygments_lexer": "ipython3",
   "version": "3.8.8"
  }
 },
 "nbformat": 4,
 "nbformat_minor": 4
}
