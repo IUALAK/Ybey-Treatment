{
 "cells": [
  {
   "cell_type": "code",
   "execution_count": null,
   "id": "551c17a2",
   "metadata": {},
   "outputs": [],
   "source": [
    "# Prepare protein fasta list\n",
    "import os\n",
    "\n",
    "final_text = ''\n",
    "for i in os.listdir('Eukarya_samples/Results'):\n",
    "    print(i)\n",
    "    with open(f'Eukarya_samples/Results/{i}', 'r') as text:\n",
    "        final_text = final_text + text.read()\n",
    "\n",
    "with open('final.fasta', 'w') as f:\n",
    "    f.write(final_text)\n",
    "    f.close()\n"
   ]
  },
  {
   "cell_type": "code",
   "execution_count": 7,
   "id": "c5e021ed-fe35-473e-bda0-91962c293792",
   "metadata": {},
   "outputs": [],
   "source": [
    "# Get more data about obtained proteins\n",
    "from Bio import SeqIO\n",
    "from Bio import Entrez\n",
    "import pandas as pd\n",
    "\n",
    "S11_table = {'id': [],'sequence': [], 'definition': [],'taxon': [], 'organism': [] }\n",
    "for i in SeqIO.parse('./Eukarya_samples/final.fasta', 'fasta'):\n",
    "    S11_table['id'].append(i.id)\n",
    "    S11_table['sequence'].append(str(i.seq))\n",
    "\n",
    "for id in S11_table['id']:\n",
    "    Entrez.email = 'alakhrasyunes@gmail.com'\n",
    "    handle = Entrez.efetch(db = 'protein', id = id, retmode = 'xml')\n",
    "    response = Entrez.read(handle)[0]\n",
    "    S11_table['definition'].append(response['GBSeq_definition'])\n",
    "    S11_table['taxon'].append(response['GBSeq_taxonomy'])\n",
    "    S11_table['organism'].append(response['GBSeq_organism'])\n",
    "    \n",
    "    # GBSeq_definition\n",
    "    # GBSeq_division GBSeq_taxonomy GBSeq_organism\n",
    "S11_table = pd.DataFrame.from_dict(S11_table)\n",
    "S11_table.to_csv('EuS11.csv', index=False)"
   ]
  },
  {
   "cell_type": "code",
   "execution_count": 23,
   "id": "83e3b0fa-6984-4220-bf8f-f557b894c668",
   "metadata": {},
   "outputs": [],
   "source": [
    "# Treatment of obtained table\n",
    "import pandas as pd\n",
    "S11_table = pd.read_csv('EuS11.csv')\n",
    "table_to_delete = S11_table.loc[S11_table['definition'].str.contains('partial')]\n",
    "S11_table = S11_table.drop(table_to_delete.index)\n",
    "S11_table = S11_table.loc[\n",
    "    S11_table['definition'].str.contains('mitochondrial') |\n",
    "    S11_table['definition'].str.contains('plastid') |\n",
    "    S11_table['definition'].str.contains('chloroplast') |\n",
    "    S11_table['definition'].str.contains('mitochondrion')\n",
    "    ]\n",
    "S11_table.to_csv('EuS11_treated.csv', index = False)"
   ]
  },
  {
   "cell_type": "code",
   "execution_count": 48,
   "id": "a58e1f8d",
   "metadata": {},
   "outputs": [
    {
     "name": "stderr",
     "output_type": "stream",
     "text": [
      "/tmp/ipykernel_76512/1615895148.py:9: UserWarning: This pattern has match groups. To actually get the groups, use str.extract.\n",
      "  to_concat = [treated_table, s11_table.loc[s11_table['organism'].str.contains(i)]]\n"
     ]
    }
   ],
   "source": [
    "# Find corresponding species for proteins using assembly information\n",
    "import pandas as pd\n",
    "import numpy as np\n",
    "\n",
    "s11_table = pd.read_csv('EuS11_treated.csv')\n",
    "species_list = pd.read_csv('eukarya_species_list.csv')\n",
    "treated_table = pd.DataFrame(columns = ['id', 'sequence','definition', 'taxon', 'organism'])\n",
    "for i in species_list['0']:\n",
    "    to_concat = [treated_table, s11_table.loc[s11_table['organism'].str.contains(i)]]\n",
    "    treated_table = pd.concat(to_concat)\n",
    "treated_table = treated_table.drop_duplicates(subset = ['organism'])\n",
    "treated_table.to_csv('EuS11_by_species.csv', index = False)"
   ]
  },
  {
   "cell_type": "code",
   "execution_count": 49,
   "id": "3c4c9ae7",
   "metadata": {},
   "outputs": [
    {
     "name": "stderr",
     "output_type": "stream",
     "text": [
      "/tmp/ipykernel_76512/2929775549.py:8: UserWarning: This pattern has match groups. To actually get the groups, use str.extract.\n",
      "  to_concat = [treated_table, ybey_table.loc[ybey_table['organism'].str.contains(i)]]\n"
     ]
    }
   ],
   "source": [
    "# Prepare Ybey table\n",
    "import pandas as pd\n",
    "\n",
    "ybey_table = pd.read_csv('../Ybey.tab', sep = '\\t')\n",
    "ybey_table = ybey_table[['entry', 'protein names', 'organism']]\n",
    "species_list = pd.read_csv('eukarya_species_list.csv')\n",
    "treated_table = pd.DataFrame(columns=['entry', 'protein names', 'organism'])\n",
    "for i in species_list['0']:\n",
    "    to_concat = [treated_table, ybey_table.loc[ybey_table['organism'].str.contains(i)]]\n",
    "    treated_table = pd.concat(to_concat)\n",
    "treated_table = treated_table.drop_duplicates(subset = ['organism'])\n",
    "treated_table.to_csv('EuYbey.csv', index = False)"
   ]
  },
  {
   "cell_type": "code",
   "execution_count": 96,
   "id": "afe4d971",
   "metadata": {},
   "outputs": [],
   "source": [
    "# Combine the obtained information (pick ybey and S11 groups)\n",
    "import pandas as pd\n",
    "import numpy as np\n",
    "import re\n",
    "\n",
    "def us11_analysis(sequence):\n",
    "    sequence = sequence[-30:]\n",
    "    # End of the new segment\n",
    "    scan = re.findall('(?=(D.{8}))', sequence)\n",
    "    if scan != []:\n",
    "        # print(scan)\n",
    "        if scan[-1][7:] in ['NG','DG']: #and len(scan) == 1: \n",
    "            return 1 # ng and dg groups\n",
    "        else:\n",
    "            return 0 # other groups\n",
    "    else:\n",
    "        return 'NotRepresentative'\n",
    "\n",
    "ybey_table = pd.read_csv('EuYbey.csv')\n",
    "s11_table = pd.read_csv('EuS11_by_species.csv')\n",
    "s11_table['ybey_group'] = np.nan\n",
    "ybey_table = list(ybey_table['organism'])\n",
    "for i in range(len(ybey_table)):\n",
    "    ybey_table[i] = re.sub(' \\(.*\\)', '', ybey_table[i])\n",
    "for i in ybey_table:\n",
    "    s11_table.loc[s11_table['organism'].str.contains(i), 'ybey_group'] = 1\n",
    "s11_table.loc[s11_table['ybey_group'] != 1, 'ybey_group'] = 0\n",
    "for i in s11_table.itertuples():\n",
    "    group = us11_analysis(i.sequence)\n",
    "    s11_table.loc[s11_table['id'] == i.id, 's11_group'] = group\n",
    "s11_table = s11_table.loc[s11_table['s11_group'] != 'NotRepresentative']\n",
    "s11_table.to_csv('Eu_info_table.csv', index = False)\n"
   ]
  },
  {
   "cell_type": "code",
   "execution_count": 102,
   "id": "91f3724a",
   "metadata": {},
   "outputs": [
    {
     "name": "stdout",
     "output_type": "stream",
     "text": [
      "            ybey_group  s11_group\n",
      "ybey_group    1.000000   0.557156\n",
      "s11_group     0.557156   1.000000\n"
     ]
    },
    {
     "data": {
      "image/png": "[encoded data removed]",
      "text/plain": [
       "<Figure size 432x288 with 2 Axes>"
      ]
     },
     "metadata": {
      "needs_background": "light"
     },
     "output_type": "display_data"
    },
    {
     "data": {
      "image/png": "[encoded data removed]",
      "text/plain": [
       "<Figure size 432x288 with 2 Axes>"
      ]
     },
     "metadata": {
      "needs_background": "light"
     },
     "output_type": "display_data"
    }
   ],
   "source": [
    "# Visualization\n",
    "\n",
    "import pandas as pd\n",
    "import numpy as np\n",
    "import matplotlib.pyplot as plt\n",
    "\n",
    "info_table = pd.read_csv('Eu_info_table.csv')\n",
    "# getting visualization by ybey group\n",
    "fig, axes = plt.subplots(1, 2)\n",
    "neg_ybey = info_table.loc[info_table['ybey_group'] == 0]\n",
    "pos_ybey = info_table.loc[info_table['ybey_group'] == 1]\n",
    "pos_ybey.groupby(['s11_group']).size().plot.bar(subplots = True, ax = axes[0], sharex = False, sharey = False, title = 'uS11m distrubution in taxons by Ybey group')\n",
    "axes[0].set_title('Ybey +')\n",
    "neg_ybey.groupby(['s11_group']).size().plot.bar(subplots = True, ax = axes[1], sharex = False, sharey = False)\n",
    "axes[1].set_title('Ybey -')\n",
    "plt.savefig('./Plots/ybey_plot.png')\n",
    "\n",
    "# getting hex plots\n",
    "info_table = info_table.drop(columns = 'id')\n",
    "plot = info_table.plot.hexbin(x = 's11_group', y = 'ybey_group', gridsize = (2, 1), title = f'distribution for Eukarya', sharex = False, xticks = (0, 1), yticks = (0, 1) )\n",
    "corr = info_table.corr()\n",
    "print(corr)\n",
    "plot.get_figure().savefig(f'./Plots/Eukarya_plot.png')"
   ]
  },
  {
   "cell_type": "code",
   "execution_count": null,
   "id": "3ec301a0",
   "metadata": {},
   "outputs": [],
   "source": []
  }
 ],
 "metadata": {
  "kernelspec": {
   "display_name": "Python 3 (ipykernel)",
   "language": "python",
   "name": "python3"
  },
  "language_info": {
   "codemirror_mode": {
    "name": "ipython",
    "version": 3
   },
   "file_extension": ".py",
   "mimetype": "text/x-python",
   "name": "python",
   "nbconvert_exporter": "python",
   "pygments_lexer": "ipython3",
   "version": "3.8.8"
  }
 },
 "nbformat": 4,
 "nbformat_minor": 5
}
